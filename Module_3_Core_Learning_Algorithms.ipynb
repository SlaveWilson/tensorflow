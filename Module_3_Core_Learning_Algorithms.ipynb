{
  "nbformat": 4,
  "nbformat_minor": 0,
  "metadata": {
    "colab": {
      "name": "Module 3 - Core Learning Algorithms.ipynb",
      "provenance": [],
      "authorship_tag": "ABX9TyORxj1NRr7pVhgU2bY/ge1m",
      "include_colab_link": true
    },
    "kernelspec": {
      "name": "python3",
      "display_name": "Python 3"
    }
  },
  "cells": [
    {
      "cell_type": "markdown",
      "metadata": {
        "id": "view-in-github",
        "colab_type": "text"
      },
      "source": [
        "<a href=\"https://colab.research.google.com/github/SlaveWilson/tensorflow/blob/main/Module_3_Core_Learning_Algorithms.ipynb\" target=\"_parent\"><img src=\"https://colab.research.google.com/assets/colab-badge.svg\" alt=\"Open In Colab\"/></a>"
      ]
    },
    {
      "cell_type": "markdown",
      "metadata": {
        "id": "H4Jqi9S_q2yF"
      },
      "source": [
        "# Module 3 - Core Learning Algorithms\r\n",
        "\r\n",
        "---"
      ]
    }
  ]
}