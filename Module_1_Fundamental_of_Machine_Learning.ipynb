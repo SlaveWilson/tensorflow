{
  "nbformat": 4,
  "nbformat_minor": 0,
  "metadata": {
    "colab": {
      "name": "Module 1 - Fundamental of Machine Learning.ipynb",
      "provenance": [],
      "collapsed_sections": [],
      "authorship_tag": "ABX9TyNfS6E7lFUPAaWBBGM/1p8j",
      "include_colab_link": true
    },
    "kernelspec": {
      "name": "python3",
      "display_name": "Python 3"
    }
  },
  "cells": [
    {
      "cell_type": "markdown",
      "metadata": {
        "id": "view-in-github",
        "colab_type": "text"
      },
      "source": [
        "<a href=\"https://colab.research.google.com/github/SlaveWilson/tensorflow/blob/main/Module_1_Fundamental_of_Machine_Learning.ipynb\" target=\"_parent\"><img src=\"https://colab.research.google.com/assets/colab-badge.svg\" alt=\"Open In Colab\"/></a>"
      ]
    },
    {
      "cell_type": "markdown",
      "metadata": {
        "id": "-b6lDt2XNUzp"
      },
      "source": [
        "# Module 1 - Fundamental of Machine Learning\r\n"
      ]
    },
    {
      "cell_type": "markdown",
      "metadata": {
        "id": "iVQwjDFyQBCl"
      },
      "source": [
        "## Different Types of Machine Learning\r\n",
        "\r\n",
        "- Unsupervised Learning\r\n",
        "- Supervised Learning\r\n",
        "- Reinforcement Learning"
      ]
    },
    {
      "cell_type": "markdown",
      "metadata": {
        "id": "g7SClip26RYH"
      },
      "source": [
        "### Supervised Learning\r\n",
        "\r\n",
        "- Features => Labels\r\n",
        "- Pass in the features and labels, train the model\r\n",
        "- Have the data, and prediction results.\r\n",
        "- Then tweak the modal to fit the results. "
      ]
    },
    {
      "cell_type": "markdown",
      "metadata": {
        "id": "jUehFs2O664a"
      },
      "source": [
        "### Unsupervised Learning\r\n",
        "\r\n",
        "- Only have features, but doesnt have labels\r\n",
        "- Some kind of models to cluster the data points\r\n",
        "- Unique groups of data"
      ]
    },
    {
      "cell_type": "markdown",
      "metadata": {
        "id": "j94phlke7x37"
      },
      "source": [
        "### Reinforcement Learning\r\n",
        "\r\n",
        "- Don't have any datas\r\n",
        "- Only agent, an environment and a reward\r\n",
        "- Agent is trying to maximize the reward"
      ]
    }
  ]
}