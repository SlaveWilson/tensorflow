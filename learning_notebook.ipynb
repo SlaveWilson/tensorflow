{
  "nbformat": 4,
  "nbformat_minor": 0,
  "metadata": {
    "colab": {
      "name": "learning-notebook.ipynb",
      "provenance": [],
      "collapsed_sections": [],
      "authorship_tag": "ABX9TyP1vxDcyRpc1Fki54kEVzee",
      "include_colab_link": true
    },
    "kernelspec": {
      "name": "python3",
      "display_name": "Python 3"
    }
  },
  "cells": [
    {
      "cell_type": "markdown",
      "metadata": {
        "id": "view-in-github",
        "colab_type": "text"
      },
      "source": [
        "<a href=\"https://colab.research.google.com/github/SlaveWilson/tensorflow/blob/main/learning_notebook.ipynb\" target=\"_parent\"><img src=\"https://colab.research.google.com/assets/colab-badge.svg\" alt=\"Open In Colab\"/></a>"
      ]
    },
    {
      "cell_type": "markdown",
      "metadata": {
        "id": "-b6lDt2XNUzp"
      },
      "source": [
        "# Tensorflow Learning Notebook"
      ]
    },
    {
      "cell_type": "markdown",
      "metadata": {
        "id": "iVQwjDFyQBCl"
      },
      "source": [
        "## Different Types of Machine Learning\r\n",
        "\r\n",
        "- Unsupervised Learning\r\n",
        "- Supervised Learning\r\n",
        "- Reinforcement Learning"
      ]
    }
  ]
}