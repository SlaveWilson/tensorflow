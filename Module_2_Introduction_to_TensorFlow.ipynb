{
  "nbformat": 4,
  "nbformat_minor": 0,
  "metadata": {
    "colab": {
      "name": "Module 2 - Introduction to TensorFlow.ipynb",
      "provenance": [],
      "authorship_tag": "ABX9TyPwZQsn2PVTGYmbai/pOpyg",
      "include_colab_link": true
    },
    "kernelspec": {
      "name": "python3",
      "display_name": "Python 3"
    }
  },
  "cells": [
    {
      "cell_type": "markdown",
      "metadata": {
        "id": "view-in-github",
        "colab_type": "text"
      },
      "source": [
        "<a href=\"https://colab.research.google.com/github/SlaveWilson/tensorflow/blob/main/Module_2_Introduction_to_TensorFlow.ipynb\" target=\"_parent\"><img src=\"https://colab.research.google.com/assets/colab-badge.svg\" alt=\"Open In Colab\"/></a>"
      ]
    },
    {
      "cell_type": "markdown",
      "metadata": {
        "id": "2TvsHIFW9v-U"
      },
      "source": [
        "# Module 2 - Introduction to TensorFlow\r\n",
        "\r\n",
        "---\r\n",
        "\r\n"
      ]
    },
    {
      "cell_type": "markdown",
      "metadata": {
        "id": "G5vKuRbS9x4X"
      },
      "source": [
        "## What can we do with TensorFlow\r\n",
        "\r\n",
        "- Image Classification\r\n",
        "- Data Clustering\r\n",
        "- Regression\r\n",
        "- Reiforcement Learning\r\n",
        "- Natural Langugage Processing"
      ]
    },
    {
      "cell_type": "markdown",
      "metadata": {
        "id": "Nu6BPjibifPW"
      },
      "source": [
        "## How does it work\r\n",
        "\r\n",
        "- Two main components\r\n",
        " - Graphs\r\n",
        " - Sessions"
      ]
    },
    {
      "cell_type": "markdown",
      "metadata": {
        "id": "gmU0Xxsm1RRY"
      },
      "source": [
        "## Installing TensorFlow\r\n"
      ]
    },
    {
      "cell_type": "code",
      "metadata": {
        "id": "uFCLdibe3BjT"
      },
      "source": [
        "pip install tensorflow"
      ],
      "execution_count": null,
      "outputs": []
    },
    {
      "cell_type": "markdown",
      "metadata": {
        "id": "eOJYhy2C3E8F"
      },
      "source": [
        "If you want to use CUDA gpu"
      ]
    },
    {
      "cell_type": "code",
      "metadata": {
        "id": "YT7DbZAC3JUg"
      },
      "source": [
        "pip install tensorflow-gpu"
      ],
      "execution_count": null,
      "outputs": []
    },
    {
      "cell_type": "markdown",
      "metadata": {
        "id": "r0csvBG82aaM"
      },
      "source": [
        "## Importing TensorFlow\r\n",
        "\r\n"
      ]
    },
    {
      "cell_type": "code",
      "metadata": {
        "colab": {
          "base_uri": "https://localhost:8080/"
        },
        "id": "_goFQZ-22fDp",
        "outputId": "d140f7a7-9702-4830-ee78-2480229e5bbe"
      },
      "source": [
        "%tensorflow_version 2.x # this line is not required unless you are in a notebook "
      ],
      "execution_count": 40,
      "outputs": [
        {
          "output_type": "stream",
          "text": [
            "`%tensorflow_version` only switches the major version: 1.x or 2.x.\n",
            "You set: `2.x # this line is not required unless you are in a notebook`. This will be interpreted as: `2.x`.\n",
            "\n",
            "\n",
            "TensorFlow is already loaded. Please restart the runtime to change versions.\n"
          ],
          "name": "stdout"
        }
      ]
    },
    {
      "cell_type": "code",
      "metadata": {
        "colab": {
          "base_uri": "https://localhost:8080/"
        },
        "id": "X2RRzCzs21Wb",
        "outputId": "8e41a995-c133-40ff-d00b-375e52a32093"
      },
      "source": [
        "import tensorflow as tf # now import the tensorflow module\r\n",
        "print(tf.version)"
      ],
      "execution_count": 41,
      "outputs": [
        {
          "output_type": "stream",
          "text": [
            "<module 'tensorflow._api.v2.version' from '/usr/local/lib/python3.6/dist-packages/tensorflow/_api/v2/version/__init__.py'>\n"
          ],
          "name": "stdout"
        }
      ]
    },
    {
      "cell_type": "markdown",
      "metadata": {
        "id": "yJo_j6jc3oEQ"
      },
      "source": [
        "## Tensors\r\n",
        "\r\n",
        "- A vector generalized to higher dimensions\r\n",
        "- Each tensor represents a partialy defined computation that will eventually produce a value\r\n",
        "\r\n",
        "Each tensor has a **data type** and a **shape**\r\n",
        "- **Data Types Include**: float32, int32, string and others\r\n",
        "- **Shape**: Represents the dimension of data"
      ]
    },
    {
      "cell_type": "markdown",
      "metadata": {
        "id": "A0xlfG5b55hY"
      },
      "source": [
        "## Creating Tensors"
      ]
    },
    {
      "cell_type": "code",
      "metadata": {
        "id": "NaGIqCba58GJ"
      },
      "source": [
        "string = tf.Variable(\"this is a string\", tf.string)\r\n",
        "number = tf.Variable(324, tf.int16)\r\n",
        "floating = tf.Variable(3.567,tf.float64)"
      ],
      "execution_count": 6,
      "outputs": []
    },
    {
      "cell_type": "markdown",
      "metadata": {
        "id": "YMTPY2V96KkQ"
      },
      "source": [
        "## Rank/Degree of Tensors\r\n",
        "\r\n",
        "- Scalar: scalar value means 1 value\r\n",
        "- Vector: vector value means more than 1 value\r\n",
        "\r\n",
        "To create some tensors of higher degrees/ranks"
      ]
    },
    {
      "cell_type": "code",
      "metadata": {
        "id": "ztI3sG88lxBd"
      },
      "source": [
        "rank1_tensor = tf.Variable([\"Test\", \"Ok\", \"Tim\"], tf.string)\r\n",
        "rank2_tensor = tf.Variable([[\"test\",\"ok\",\"asd\"],[\"test\",\"yes\",\"asd\"]], tf.string)"
      ],
      "execution_count": 15,
      "outputs": []
    },
    {
      "cell_type": "markdown",
      "metadata": {
        "id": "OI23XhsGmXk8"
      },
      "source": [
        "To determine the rank of a tensor"
      ]
    },
    {
      "cell_type": "code",
      "metadata": {
        "colab": {
          "base_uri": "https://localhost:8080/"
        },
        "id": "CbvTxQQxmao-",
        "outputId": "57afc2a3-10a3-42f0-eebc-232b149b5c37"
      },
      "source": [
        "tf.rank(rank2_tensor)"
      ],
      "execution_count": 16,
      "outputs": [
        {
          "output_type": "execute_result",
          "data": {
            "text/plain": [
              "<tf.Tensor: shape=(), dtype=int32, numpy=2>"
            ]
          },
          "metadata": {
            "tags": []
          },
          "execution_count": 16
        }
      ]
    },
    {
      "cell_type": "markdown",
      "metadata": {
        "id": "zWXTzqHhmhDW"
      },
      "source": [
        "## Shape of Tensors\r\n",
        "\r\n",
        "- How many items we have in each dimension\r\n",
        "\r\n",
        "To get the shape of a tensor"
      ]
    },
    {
      "cell_type": "code",
      "metadata": {
        "colab": {
          "base_uri": "https://localhost:8080/"
        },
        "id": "vnylZpe5mrPS",
        "outputId": "73d2031a-e7e5-4d2b-f223-703c0aade2d6"
      },
      "source": [
        "rank2_tensor.shape"
      ],
      "execution_count": 19,
      "outputs": [
        {
          "output_type": "execute_result",
          "data": {
            "text/plain": [
              "TensorShape([2, 3])"
            ]
          },
          "metadata": {
            "tags": []
          },
          "execution_count": 19
        }
      ]
    },
    {
      "cell_type": "markdown",
      "metadata": {
        "id": "OT0fS9QInKXe"
      },
      "source": [
        "## Changing Shape\r\n",
        "\r\n",
        "- \r\n",
        "\r\n",
        "To Change the shape of a tensor"
      ]
    },
    {
      "cell_type": "code",
      "metadata": {
        "id": "Ntk7l4TgnQ49"
      },
      "source": [
        "tensor1 = tf.ones([1,2,4])\r\n",
        "tensor2 = tf.reshape(tensor1, [2,2,2])\r\n",
        "tensor3 = tf.reshape(tensor2, [4,-1]) # -1 tells the tensor to calculate the size of the dimension in that place"
      ],
      "execution_count": 37,
      "outputs": []
    },
    {
      "cell_type": "code",
      "metadata": {
        "colab": {
          "base_uri": "https://localhost:8080/"
        },
        "id": "Es7Oq9ztneIf",
        "outputId": "b1c2c6dd-a73e-444e-8340-1f72a6ff03fc"
      },
      "source": [
        "print(tensor1)\r\n",
        "print(tensor2)\r\n",
        "print(tensor3)"
      ],
      "execution_count": 38,
      "outputs": [
        {
          "output_type": "stream",
          "text": [
            "tf.Tensor(\n",
            "[[[1. 1. 1. 1.]\n",
            "  [1. 1. 1. 1.]]], shape=(1, 2, 4), dtype=float32)\n",
            "tf.Tensor(\n",
            "[[[1. 1.]\n",
            "  [1. 1.]]\n",
            "\n",
            " [[1. 1.]\n",
            "  [1. 1.]]], shape=(2, 2, 2), dtype=float32)\n",
            "tf.Tensor(\n",
            "[[1. 1.]\n",
            " [1. 1.]\n",
            " [1. 1.]\n",
            " [1. 1.]], shape=(4, 2), dtype=float32)\n"
          ],
          "name": "stdout"
        }
      ]
    },
    {
      "cell_type": "markdown",
      "metadata": {
        "id": "daNei84HohU8"
      },
      "source": [
        "## Types of Tensors\r\n",
        "\r\n",
        "- Variable (Important)\r\n",
        " - Mutable\r\n",
        "- Constant (Important)\r\n",
        " - Immutable\r\n",
        "- Placeholder\r\n",
        "- SparseTensor\r\n",
        "\r\n"
      ]
    },
    {
      "cell_type": "markdown",
      "metadata": {
        "id": "twVljG8mo_jW"
      },
      "source": [
        "## Evaluating Tensors\r\n",
        "\r\n",
        "- The only way to evaluate the tensors is to create a session\r\n",
        "\r\n",
        "Simplest way:"
      ]
    },
    {
      "cell_type": "code",
      "metadata": {
        "id": "lQrp0SBDpNqr"
      },
      "source": [
        "with tf.Session() as sess: # creates a session using the default graph\r\n",
        "  tensor.eval() # tensor will of course be the name of your tensor"
      ],
      "execution_count": null,
      "outputs": []
    },
    {
      "cell_type": "markdown",
      "metadata": {
        "id": "MlFg-r8Xpdtp"
      },
      "source": [
        "## Sources\r\n",
        "\r\n",
        "https://www.tensorflow.org/guide/tensor\r\n",
        "\r\n",
        "---\r\n",
        "\r\n"
      ]
    },
    {
      "cell_type": "markdown",
      "metadata": {
        "id": "oARZ8NXXpngz"
      },
      "source": [
        "## Exercise"
      ]
    },
    {
      "cell_type": "code",
      "metadata": {
        "colab": {
          "base_uri": "https://localhost:8080/"
        },
        "id": "lSssEnGIprw8",
        "outputId": "17834fad-bdf9-4cad-d880-8312c397d9d1"
      },
      "source": [
        "t = tf.zeros([5,5,5,5])\r\n",
        "t = tf.reshape(t, [125, -1])\r\n",
        "print(t)"
      ],
      "execution_count": 50,
      "outputs": [
        {
          "output_type": "stream",
          "text": [
            "tf.Tensor(\n",
            "[[0. 0. 0. 0. 0.]\n",
            " [0. 0. 0. 0. 0.]\n",
            " [0. 0. 0. 0. 0.]\n",
            " [0. 0. 0. 0. 0.]\n",
            " [0. 0. 0. 0. 0.]\n",
            " [0. 0. 0. 0. 0.]\n",
            " [0. 0. 0. 0. 0.]\n",
            " [0. 0. 0. 0. 0.]\n",
            " [0. 0. 0. 0. 0.]\n",
            " [0. 0. 0. 0. 0.]\n",
            " [0. 0. 0. 0. 0.]\n",
            " [0. 0. 0. 0. 0.]\n",
            " [0. 0. 0. 0. 0.]\n",
            " [0. 0. 0. 0. 0.]\n",
            " [0. 0. 0. 0. 0.]\n",
            " [0. 0. 0. 0. 0.]\n",
            " [0. 0. 0. 0. 0.]\n",
            " [0. 0. 0. 0. 0.]\n",
            " [0. 0. 0. 0. 0.]\n",
            " [0. 0. 0. 0. 0.]\n",
            " [0. 0. 0. 0. 0.]\n",
            " [0. 0. 0. 0. 0.]\n",
            " [0. 0. 0. 0. 0.]\n",
            " [0. 0. 0. 0. 0.]\n",
            " [0. 0. 0. 0. 0.]\n",
            " [0. 0. 0. 0. 0.]\n",
            " [0. 0. 0. 0. 0.]\n",
            " [0. 0. 0. 0. 0.]\n",
            " [0. 0. 0. 0. 0.]\n",
            " [0. 0. 0. 0. 0.]\n",
            " [0. 0. 0. 0. 0.]\n",
            " [0. 0. 0. 0. 0.]\n",
            " [0. 0. 0. 0. 0.]\n",
            " [0. 0. 0. 0. 0.]\n",
            " [0. 0. 0. 0. 0.]\n",
            " [0. 0. 0. 0. 0.]\n",
            " [0. 0. 0. 0. 0.]\n",
            " [0. 0. 0. 0. 0.]\n",
            " [0. 0. 0. 0. 0.]\n",
            " [0. 0. 0. 0. 0.]\n",
            " [0. 0. 0. 0. 0.]\n",
            " [0. 0. 0. 0. 0.]\n",
            " [0. 0. 0. 0. 0.]\n",
            " [0. 0. 0. 0. 0.]\n",
            " [0. 0. 0. 0. 0.]\n",
            " [0. 0. 0. 0. 0.]\n",
            " [0. 0. 0. 0. 0.]\n",
            " [0. 0. 0. 0. 0.]\n",
            " [0. 0. 0. 0. 0.]\n",
            " [0. 0. 0. 0. 0.]\n",
            " [0. 0. 0. 0. 0.]\n",
            " [0. 0. 0. 0. 0.]\n",
            " [0. 0. 0. 0. 0.]\n",
            " [0. 0. 0. 0. 0.]\n",
            " [0. 0. 0. 0. 0.]\n",
            " [0. 0. 0. 0. 0.]\n",
            " [0. 0. 0. 0. 0.]\n",
            " [0. 0. 0. 0. 0.]\n",
            " [0. 0. 0. 0. 0.]\n",
            " [0. 0. 0. 0. 0.]\n",
            " [0. 0. 0. 0. 0.]\n",
            " [0. 0. 0. 0. 0.]\n",
            " [0. 0. 0. 0. 0.]\n",
            " [0. 0. 0. 0. 0.]\n",
            " [0. 0. 0. 0. 0.]\n",
            " [0. 0. 0. 0. 0.]\n",
            " [0. 0. 0. 0. 0.]\n",
            " [0. 0. 0. 0. 0.]\n",
            " [0. 0. 0. 0. 0.]\n",
            " [0. 0. 0. 0. 0.]\n",
            " [0. 0. 0. 0. 0.]\n",
            " [0. 0. 0. 0. 0.]\n",
            " [0. 0. 0. 0. 0.]\n",
            " [0. 0. 0. 0. 0.]\n",
            " [0. 0. 0. 0. 0.]\n",
            " [0. 0. 0. 0. 0.]\n",
            " [0. 0. 0. 0. 0.]\n",
            " [0. 0. 0. 0. 0.]\n",
            " [0. 0. 0. 0. 0.]\n",
            " [0. 0. 0. 0. 0.]\n",
            " [0. 0. 0. 0. 0.]\n",
            " [0. 0. 0. 0. 0.]\n",
            " [0. 0. 0. 0. 0.]\n",
            " [0. 0. 0. 0. 0.]\n",
            " [0. 0. 0. 0. 0.]\n",
            " [0. 0. 0. 0. 0.]\n",
            " [0. 0. 0. 0. 0.]\n",
            " [0. 0. 0. 0. 0.]\n",
            " [0. 0. 0. 0. 0.]\n",
            " [0. 0. 0. 0. 0.]\n",
            " [0. 0. 0. 0. 0.]\n",
            " [0. 0. 0. 0. 0.]\n",
            " [0. 0. 0. 0. 0.]\n",
            " [0. 0. 0. 0. 0.]\n",
            " [0. 0. 0. 0. 0.]\n",
            " [0. 0. 0. 0. 0.]\n",
            " [0. 0. 0. 0. 0.]\n",
            " [0. 0. 0. 0. 0.]\n",
            " [0. 0. 0. 0. 0.]\n",
            " [0. 0. 0. 0. 0.]\n",
            " [0. 0. 0. 0. 0.]\n",
            " [0. 0. 0. 0. 0.]\n",
            " [0. 0. 0. 0. 0.]\n",
            " [0. 0. 0. 0. 0.]\n",
            " [0. 0. 0. 0. 0.]\n",
            " [0. 0. 0. 0. 0.]\n",
            " [0. 0. 0. 0. 0.]\n",
            " [0. 0. 0. 0. 0.]\n",
            " [0. 0. 0. 0. 0.]\n",
            " [0. 0. 0. 0. 0.]\n",
            " [0. 0. 0. 0. 0.]\n",
            " [0. 0. 0. 0. 0.]\n",
            " [0. 0. 0. 0. 0.]\n",
            " [0. 0. 0. 0. 0.]\n",
            " [0. 0. 0. 0. 0.]\n",
            " [0. 0. 0. 0. 0.]\n",
            " [0. 0. 0. 0. 0.]\n",
            " [0. 0. 0. 0. 0.]\n",
            " [0. 0. 0. 0. 0.]\n",
            " [0. 0. 0. 0. 0.]\n",
            " [0. 0. 0. 0. 0.]\n",
            " [0. 0. 0. 0. 0.]\n",
            " [0. 0. 0. 0. 0.]\n",
            " [0. 0. 0. 0. 0.]\n",
            " [0. 0. 0. 0. 0.]], shape=(125, 5), dtype=float32)\n"
          ],
          "name": "stdout"
        }
      ]
    }
  ]
}