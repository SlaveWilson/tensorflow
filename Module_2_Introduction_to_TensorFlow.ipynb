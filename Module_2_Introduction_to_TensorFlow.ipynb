{
  "nbformat": 4,
  "nbformat_minor": 0,
  "metadata": {
    "colab": {
      "name": "Module 2 - Introduction to TensorFlow.ipynb",
      "provenance": [],
      "authorship_tag": "ABX9TyOX8bLrE+HTk9KST2tycmUs",
      "include_colab_link": true
    },
    "kernelspec": {
      "name": "python3",
      "display_name": "Python 3"
    }
  },
  "cells": [
    {
      "cell_type": "markdown",
      "metadata": {
        "id": "view-in-github",
        "colab_type": "text"
      },
      "source": [
        "<a href=\"https://colab.research.google.com/github/SlaveWilson/tensorflow/blob/main/Module_2_Introduction_to_TensorFlow.ipynb\" target=\"_parent\"><img src=\"https://colab.research.google.com/assets/colab-badge.svg\" alt=\"Open In Colab\"/></a>"
      ]
    },
    {
      "cell_type": "markdown",
      "metadata": {
        "id": "2TvsHIFW9v-U"
      },
      "source": [
        "# Module 2 - Introduction to TensorFlow\r\n",
        "\r\n",
        "---\r\n",
        "\r\n"
      ]
    },
    {
      "cell_type": "markdown",
      "metadata": {
        "id": "G5vKuRbS9x4X"
      },
      "source": [
        "## What can we do with TensorFlow\r\n",
        "\r\n",
        "- Image Classification\r\n",
        "- Data Clustering\r\n",
        "- Regression\r\n",
        "- Reiforcement Learning\r\n",
        "- Natural Langugage Processing"
      ]
    },
    {
      "cell_type": "markdown",
      "metadata": {
        "id": "Nu6BPjibifPW"
      },
      "source": [
        "## How does it work\r\n",
        "\r\n",
        "- Two main components\r\n",
        " - Graphs\r\n",
        " - Sessions"
      ]
    },
    {
      "cell_type": "markdown",
      "metadata": {
        "id": "gmU0Xxsm1RRY"
      },
      "source": [
        "## Installing TensorFlow\r\n"
      ]
    },
    {
      "cell_type": "code",
      "metadata": {
        "id": "uFCLdibe3BjT"
      },
      "source": [
        "pip install tensorflow"
      ],
      "execution_count": null,
      "outputs": []
    },
    {
      "cell_type": "markdown",
      "metadata": {
        "id": "eOJYhy2C3E8F"
      },
      "source": [
        "If you want to use CUDA gpu"
      ]
    },
    {
      "cell_type": "code",
      "metadata": {
        "id": "YT7DbZAC3JUg"
      },
      "source": [
        "pip install tensorflow-gpu"
      ],
      "execution_count": null,
      "outputs": []
    },
    {
      "cell_type": "markdown",
      "metadata": {
        "id": "r0csvBG82aaM"
      },
      "source": [
        "## Importing TensorFlow\r\n",
        "\r\n"
      ]
    },
    {
      "cell_type": "code",
      "metadata": {
        "colab": {
          "base_uri": "https://localhost:8080/"
        },
        "id": "_goFQZ-22fDp",
        "outputId": "4f606cb5-e9fc-42d5-e383-429811f7ce2b"
      },
      "source": [
        "%tensorflow_version 2.x # this line is not required unless you are in a notebook "
      ],
      "execution_count": 8,
      "outputs": [
        {
          "output_type": "stream",
          "text": [
            "`%tensorflow_version` only switches the major version: 1.x or 2.x.\n",
            "You set: `2.x # this line is not required unless you are in a notebook`. This will be interpreted as: `2.x`.\n",
            "\n",
            "\n",
            "TensorFlow is already loaded. Please restart the runtime to change versions.\n"
          ],
          "name": "stdout"
        }
      ]
    },
    {
      "cell_type": "code",
      "metadata": {
        "colab": {
          "base_uri": "https://localhost:8080/"
        },
        "id": "X2RRzCzs21Wb",
        "outputId": "9e424cdc-ddf1-44d6-b17a-200a5255562a"
      },
      "source": [
        "import tensorflow as tf # now import the tensorflow module\r\n",
        "print(tf.version)"
      ],
      "execution_count": 9,
      "outputs": [
        {
          "output_type": "stream",
          "text": [
            "<module 'tensorflow._api.v2.version' from '/usr/local/lib/python3.6/dist-packages/tensorflow/_api/v2/version/__init__.py'>\n"
          ],
          "name": "stdout"
        }
      ]
    },
    {
      "cell_type": "markdown",
      "metadata": {
        "id": "yJo_j6jc3oEQ"
      },
      "source": [
        "## Tensors\r\n",
        "\r\n",
        "- A vector generalized to higher dimensions\r\n",
        "- Each tensor represents a partialy defined computation that will eventually produce a value\r\n",
        "\r\n",
        "Each tensor has a **data type** and a **shape**\r\n",
        "- **Data Types Include**: float32, int32, string and others\r\n",
        "- **Shape**: Represents the dimension of data"
      ]
    },
    {
      "cell_type": "markdown",
      "metadata": {
        "id": "A0xlfG5b55hY"
      },
      "source": [
        "## Creating Tensors"
      ]
    },
    {
      "cell_type": "code",
      "metadata": {
        "id": "NaGIqCba58GJ"
      },
      "source": [
        "string = tf.Variable(\"this is a string\", tf.string)\r\n",
        "number = tf.Variable(324, tf.int16)\r\n",
        "floating = tf.Variable(3.567,tf.float64)"
      ],
      "execution_count": 10,
      "outputs": []
    },
    {
      "cell_type": "markdown",
      "metadata": {
        "id": "YMTPY2V96KkQ"
      },
      "source": [
        "## Rank/Degree of Tensors\r\n",
        "\r\n",
        "- Scalar: scalar value means 1 value\r\n",
        "- Vector: vector value means more than 1 value"
      ]
    }
  ]
}