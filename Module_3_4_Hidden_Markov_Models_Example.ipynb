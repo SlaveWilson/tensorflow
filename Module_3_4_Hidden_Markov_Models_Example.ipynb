{
  "nbformat": 4,
  "nbformat_minor": 0,
  "metadata": {
    "colab": {
      "name": "Module 3.4 - Hidden Markov Models Example.ipynb",
      "provenance": [],
      "authorship_tag": "ABX9TyNgAsfa84XLdFEMoe80ULad",
      "include_colab_link": true
    },
    "kernelspec": {
      "name": "python3",
      "display_name": "Python 3"
    }
  },
  "cells": [
    {
      "cell_type": "markdown",
      "metadata": {
        "id": "view-in-github",
        "colab_type": "text"
      },
      "source": [
        "<a href=\"https://colab.research.google.com/github/SlaveWilson/tensorflow/blob/main/Module_3_4_Hidden_Markov_Models_Example.ipynb\" target=\"_parent\"><img src=\"https://colab.research.google.com/assets/colab-badge.svg\" alt=\"Open In Colab\"/></a>"
      ]
    },
    {
      "cell_type": "code",
      "metadata": {
        "id": "xcvFFznjxG2B"
      },
      "source": [
        "%tensorflow_version 2.x"
      ],
      "execution_count": 1,
      "outputs": []
    },
    {
      "cell_type": "code",
      "metadata": {
        "id": "zjP0Ytp9xPG_"
      },
      "source": [
        "import tensorflow_probability as tfp\r\n",
        "import tensorflow as tf"
      ],
      "execution_count": 2,
      "outputs": []
    },
    {
      "cell_type": "code",
      "metadata": {
        "id": "YeSCgWwGxhqF"
      },
      "source": [
        "tfd = tfp.distributions\r\n",
        "initial_distribution = tfd.Categorical(probs=[0.8,0.2])\r\n",
        "transition_distribution = tfd.Categorical(probs=[[0.7,0.3],\r\n",
        "                                                 [0.2,0.8]])\r\n",
        "observation_distribution = tfd.Normal(loc=[0.,15.], scale=[5.,10.])"
      ],
      "execution_count": 3,
      "outputs": []
    },
    {
      "cell_type": "code",
      "metadata": {
        "id": "NkeE8xWnyIbM"
      },
      "source": [
        "model = tfd.HiddenMarkovModel(\r\n",
        "    initial_distribution=initial_distribution,\r\n",
        "    transition_distribution=transition_distribution,\r\n",
        "    observation_distribution=observation_distribution,\r\n",
        "    num_steps=7\r\n",
        ")"
      ],
      "execution_count": 5,
      "outputs": []
    },
    {
      "cell_type": "code",
      "metadata": {
        "colab": {
          "base_uri": "https://localhost:8080/"
        },
        "id": "WxpzGPFWydol",
        "outputId": "831e533d-8984-4dbb-c9c4-ec08af98e3ed"
      },
      "source": [
        "mean = model.mean()\r\n",
        "\r\n",
        "with tf.compat.v1.Session() as sess:\r\n",
        "  print(mean.numpy())"
      ],
      "execution_count": 6,
      "outputs": [
        {
          "output_type": "stream",
          "text": [
            "[2.9999998 5.9999995 7.4999995 8.25      8.625001  8.812501  8.90625  ]\n"
          ],
          "name": "stdout"
        }
      ]
    }
  ]
}